{
 "cells": [
  {
   "cell_type": "markdown",
   "id": "fb6a6fe9",
   "metadata": {},
   "source": [
    "## day2greg\n",
    "\n",
    "This notebook implements the methodology dev'd by Jonny Williams to adjust 365 day and 360 day calendar climate datasets to standard gregorian. It improves on the original notebook by standardizing the routine, leveraging numpy's array functions for fast vectorized operations, and using far fewer dependencies.\n",
    "\n",
    "See \n",
    "- https://github.com/jonnyhtw/360day2greg/tree/main ; and\n",
    "- https://eartharxiv.org/repository/view/5645/"
   ]
  },
  {
   "cell_type": "code",
   "execution_count": 1,
   "id": "25fab0a3",
   "metadata": {},
   "outputs": [],
   "source": [
    "from netCDF4 import Dataset\n",
    "import os\n",
    "import sys\n",
    "import numpy as np\n",
    "import calendar\n",
    "\n",
    "os.chdir(r'C:\\Projects\\Peel_ClimateChange\\Data_Downloads') #just my working dir"
   ]
  },
  {
   "cell_type": "markdown",
   "id": "de133d00",
   "metadata": {},
   "source": [
    "## Just two functions!\n",
    "\n",
    "One to get an array of indices where to perform the interpolated insertions, and another to do them."
   ]
  },
  {
   "cell_type": "code",
   "execution_count": 23,
   "id": "a4870476",
   "metadata": {},
   "outputs": [],
   "source": [
    "def getGregorianSeeds(num_yrs,y0,day_cal):\n",
    "    ''' used to obtain array of random \"seeds\" for adding extra interpolated days within each year.\n",
    "    args:\n",
    "    num_yrs = total number of years\n",
    "    y0 = year zero (e.g. 1999)\n",
    "    day_cal = the number of days in the calendar you're using (e.g. 360 or 365)\n",
    "    returns: \n",
    "        list of indices at which to perform \"interpolated insertions\"\n",
    "    '''\n",
    "    assert day_cal <= 365, 'getSeeds only configured for adding interpolated days, day_cal must be 365 or less'\n",
    "    ed = (365 - day_cal) # how many extra days you need to add to a \"normal\" year\n",
    "    ins = [] #running tally of indices to flag where interpolation should occur\n",
    "    #starting in y0 for the spec'd number of years...\n",
    "    for i,y in enumerate(range(y0,y0+ny,1)):\n",
    "        #check if leap year\n",
    "        if calendar.isleap(y):\n",
    "            b = ed+2 #b = number of divisions to apply to year\n",
    "        else:\n",
    "            b = ed+1\n",
    "        sr = np.linspace(0,day_cal,b) #makes \"bins\" within the year by which to sample random seeds\n",
    "        if len(sr) == 1: #special case just handling if you don't need to sample any extra days\n",
    "            s = day_cal\n",
    "        else:\n",
    "            s = sr[1]-sr[0] #size of each bin \n",
    "        rs = np.round(np.random.rand(b-1)*s) #makes b-1 random numbers between 0 and 1 multiplied by the bin size to get an \"offset\" from sr\n",
    "        seeds = (sr[:-1]+rs).astype(int) #adds the offsets to the divisions \n",
    "        ins.extend(seeds+day_cal*i) #extends the running tally by the seeds + the number of days elapsed up to the current year\n",
    "    return ins\n",
    "\n",
    "def getInterpolatedData(arr,ins):\n",
    "    '''Inserts interpolated data into existing array given list of indices where to insert. DOES NOT ALTER EXISTING ARRAY\n",
    "    If indice is in ins, an additional new value will be inserted set to \"halfway\" between the current value and the next value.  \n",
    "    args:\n",
    "        - arr: array of data to get extra days inserted to it, typically for transient grid will be of shape (time,col,row)\n",
    "        - ins: list or array of of indices at which to do the interpolated insertion\n",
    "    returns: new array of length len(arr) + len(ins) containing the interpolated values in the spec'd indices\n",
    "        '''\n",
    "    r = [] #new data\n",
    "    for i,a in enumerate(va):\n",
    "        r.append(a)\n",
    "        if i in ins:\n",
    "\n",
    "            r.append((va[i]+va[i+1])/2)\n",
    "    return np.array(r)"
   ]
  },
  {
   "cell_type": "markdown",
   "id": "ab61a243",
   "metadata": {},
   "source": [
    "# example usage 1\n",
    "\n",
    "- UKESM1 model is 360 day"
   ]
  },
  {
   "cell_type": "code",
   "execution_count": 24,
   "id": "6ce3376b",
   "metadata": {},
   "outputs": [
    {
     "name": "stdout",
     "output_type": "stream",
     "text": [
      "dataset calendar:\n",
      "360_day\n",
      "number of original days:\n",
      "54360\n",
      "number of inserted days:\n",
      "792\n",
      "number of gregorian-based days from y0 for ny\n",
      "55152\n",
      "number of days in updated dataset:\n",
      "55152\n"
     ]
    }
   ],
   "source": [
    "#load net cdf of precip\n",
    "fn = r'Precip\\\\pr_day_bccaqv2_anusplin300_ukesm1_0_ll_historical_ssp585_r1i1p1f2_gn_19500101_21001230_sub.nc'\n",
    "d = Dataset(fn)\n",
    "print('dataset calendar:')\n",
    "print(d.variables['time'].calendar) #360 day.\n",
    "\n",
    "va = d.variables['pr'][:].transpose((2,0,1)) #transposes variable from shape (col,row,time) into array (time,col,row)\n",
    "ny = int(va.shape[0]/360) #number of years\n",
    "y0 = 1950 #starting year\n",
    "\n",
    "ins = getGregorianSeeds(num_yrs=ny,y0=1950,day_cal=360) #gets a list of indices in the entire dataset where to do the interpolated insertions\n",
    "# print(ins)\n",
    "out = getInterpolatedData(arr=va,ins=ins) #makes a new array with the interpolated arrays inserted\n",
    "\n",
    "#check\n",
    "print('number of original days:')\n",
    "print(len(va))\n",
    "print('number of inserted days:')\n",
    "print(len(ins))\n",
    "print('number of gregorian-based days from y0 for ny')\n",
    "import pandas as pd #using this only for convenience of checking dates\n",
    "print(len(pd.date_range(start='Jan 1, 1950',end='Dec 31 2100',freq='1D')))\n",
    "print('number of days in updated dataset:')\n",
    "print(out.shape[0])\n",
    "del d \n"
   ]
  },
  {
   "cell_type": "markdown",
   "id": "d87a4ad4",
   "metadata": {},
   "source": [
    "# example usage 2\n",
    "\n",
    "- CMCC-ESM2 model is 365 day, want to insert an extra day of interpolated values randomly within each leap year"
   ]
  },
  {
   "cell_type": "code",
   "execution_count": 22,
   "id": "195721fe",
   "metadata": {},
   "outputs": [
    {
     "name": "stdout",
     "output_type": "stream",
     "text": [
      "dataset calendar:\n",
      "365_day\n",
      "number of original days:\n",
      "55115\n",
      "number of inserted days:\n",
      "37\n",
      "number of gregorian-based days from y0 for ny\n",
      "55152\n",
      "number of days in updated dataset:\n",
      "55152\n"
     ]
    }
   ],
   "source": [
    "#load net cdf of precip\n",
    "fn = r'Precip\\\\pr_day_bccaqv2_anusplin300_cmcc_esm2_historical_ssp585_r1i1p1f1_gn_19500101_21001231_sub.nc'\n",
    "d = Dataset(fn)\n",
    "print('dataset calendar:')\n",
    "print(d.variables['time'].calendar) #365 day.\n",
    "\n",
    "va = d.variables['pr'][:].transpose((2,0,1)) #transposes variable from shape (col,row,time) into array (time,col,row)\n",
    "ny = int(va.shape[0]/365) #number of years\n",
    "y0 = 1950 #starting year\n",
    "\n",
    "ins = getGregorianSeeds(num_yrs=ny,y0=1950,day_cal=365) #gets a list of indices in the entire dataset where to do the interpolated insertions\n",
    "out = getInterpolatedData(arr=va,ins=ins) #makes a new array with the interpolated arrays inserted\n",
    "\n",
    "#check\n",
    "print('number of original days:')\n",
    "print(len(va))\n",
    "print('number of inserted days:')\n",
    "print(len(ins))\n",
    "print('number of gregorian-based days from y0 for ny')\n",
    "import pandas as pd #using this only for convenience of checking dates\n",
    "print(len(pd.date_range(start='Jan 1, 1950',end='Dec 31 2100',freq='1D')))\n",
    "print('number of days in updated dataset:')\n",
    "print(out.shape[0])\n",
    "\n",
    "del d"
   ]
  }
 ],
 "metadata": {
  "kernelspec": {
   "display_name": "Python 3 (ipykernel)",
   "language": "python",
   "name": "python3"
  },
  "language_info": {
   "codemirror_mode": {
    "name": "ipython",
    "version": 3
   },
   "file_extension": ".py",
   "mimetype": "text/x-python",
   "name": "python",
   "nbconvert_exporter": "python",
   "pygments_lexer": "ipython3",
   "version": "3.8.15"
  }
 },
 "nbformat": 4,
 "nbformat_minor": 5
}
